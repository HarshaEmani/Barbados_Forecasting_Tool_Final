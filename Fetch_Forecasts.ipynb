{
 "cells": [
  {
   "cell_type": "code",
   "execution_count": 1,
   "id": "4f0f6e1d",
   "metadata": {},
   "outputs": [
    {
     "name": "stdout",
     "output_type": "stream",
     "text": [
      "Env file found at location:  h:\\My Drive\\Barbados_Forecasting_Tool_Final\\.env\n",
      "Env file found at location:  h:\\My Drive\\Barbados_Forecasting_Tool_Final\\.env\n"
     ]
    }
   ],
   "source": [
    "try:\n",
    "    import tensorflow as tf\n",
    "    from keras.models import Sequential, save_model, load_model\n",
    "    from keras.layers import Dense, LSTM, Input, Dropout\n",
    "    from keras.callbacks import EarlyStopping\n",
    "    from padasip.filters import FilterRLS\n",
    "    from sklearn.multioutput import MultiOutputRegressor\n",
    "    from lightgbm import LGBMRegressor\n",
    "    import pandas as pd\n",
    "    import numpy as np\n",
    "    from datetime import datetime, timedelta, timezone\n",
    "    import json\n",
    "    import pickle\n",
    "    import os\n",
    "    import sys\n",
    "    import argparse\n",
    "    from sklearn.preprocessing import MinMaxScaler\n",
    "    from sklearn.metrics import mean_absolute_error, mean_squared_error\n",
    "    from DB_Utils import select_model_for_forecast, load_artifact_from_storage, store_forecasts, fetch_data\n",
    "    from supabase import create_client, Client\n",
    "    import traceback\n",
    "    import plotly.express as px\n",
    "    from dotenv import load_dotenv, find_dotenv\n",
    "\n",
    "    os.environ[\"TF_CPP_MIN_LOG_LEVEL\"] = \"1\"  # Or '2' or '3'\n",
    "\n",
    "    KERAS_AVAILABLE = True\n",
    "    PADASIP_AVAILABLE = True\n",
    "\n",
    "    np.set_printoptions(suppress=True)\n",
    "\n",
    "    load_dotenv()\n",
    "    print(\"Env file found at location: \", find_dotenv())\n",
    "\n",
    "except ImportError:\n",
    "    print(\"TensorFlow/Keras not found. Keras models cannot be trained/saved natively.\")\n",
    "    KERAS_AVAILABLE = False\n",
    "    # Define dummy classes if needed for type checking, though not strictly necessary here\n",
    "    Sequential, save_model, load_model = object, lambda x, y: None, lambda x: None\n",
    "    Dense, LSTM, Input, Dropout, EarlyStopping = object, object, object, object, object\n",
    "\n",
    "    print(\"padasip not found. RLS filters cannot be loaded/used.\")\n",
    "    PADASIP_AVAILABLE = False\n",
    "    FilterRLS = object\n",
    "\n",
    "\n",
    "# --- Configuration & Constants --- (Same as before)\n",
    "SUPABASE_URL = os.environ.get(\"SUPABASE_URL\")\n",
    "SUPABASE_KEY = os.environ.get(\"SUPABASE_SECRET_KEY\")\n",
    "if not SUPABASE_URL or not SUPABASE_KEY or \"YOUR_SUPABASE_URL\" in SUPABASE_URL:\n",
    "    print(\"Error: SUPABASE_URL and SUPABASE_KEY environment variables must be set.\")\n",
    "    # sys.exit(1)\n",
    "\n",
    "supabase: Client = create_client(SUPABASE_URL, SUPABASE_KEY)\n",
    "DATA_SCHEMA = \"data\"\n",
    "ML_SCHEMA = \"ml\"\n",
    "STORAGE_BUCKET = \"models\"\n",
    "FEEDER_ID_TO_TRAIN = 1\n",
    "SCENARIO = \"Day\"  # Example\n",
    "MODEL_VERSION = \"v1.1_Is_Weekend\"  # Updated version\n",
    "TRAIN_START_DATE = \"2024-01-01 00:00:00+00\"\n",
    "TRAIN_END_DATE = \"2024-05-31 23:59:59+00\"\n",
    "VALIDATION_START_DATE = \"2024-06-01 00:00:00+00\"\n",
    "VALIDATION_END_DATE = \"2024-06-30 23:59:59+00\"\n",
    "DAY_HOURS = list(range(6, 20 + 1))\n",
    "NIGHT_HOURS = list(range(0, 6)) + list(range(21, 24))\n",
    "script_dir = os.path.dirname(os.path.abspath(__file__)) if \"__file__\" in locals() else os.getcwd()\n",
    "TEMP_DIR = os.path.join(script_dir, \"tmp\")"
   ]
  },
  {
   "cell_type": "code",
   "execution_count": 23,
   "id": "895f3ce1",
   "metadata": {},
   "outputs": [
    {
     "data": {
      "application/vnd.plotly.v1+json": {
       "config": {
        "plotlyServerURL": "https://plot.ly"
       },
       "data": [
        {
         "hovertemplate": "variable=lightgbm_forecast<br>target_timestamp=%{x}<br>value=%{y}<extra></extra>",
         "legendgroup": "lightgbm_forecast",
         "line": {
          "color": "#636efa",
          "dash": "solid"
         },
         "marker": {
          "symbol": "circle"
         },
         "mode": "lines",
         "name": "lightgbm_forecast",
         "orientation": "v",
         "showlegend": true,
         "type": "scatter",
         "x": [
          "2024-07-03T00:00:00+00:00",
          "2024-07-03T01:00:00+00:00",
          "2024-07-03T02:00:00+00:00",
          "2024-07-03T03:00:00+00:00",
          "2024-07-03T04:00:00+00:00",
          "2024-07-03T05:00:00+00:00",
          "2024-07-03T06:00:00+00:00",
          "2024-07-03T07:00:00+00:00",
          "2024-07-03T08:00:00+00:00",
          "2024-07-03T09:00:00+00:00",
          "2024-07-03T10:00:00+00:00",
          "2024-07-03T11:00:00+00:00",
          "2024-07-03T12:00:00+00:00",
          "2024-07-03T13:00:00+00:00",
          "2024-07-03T14:00:00+00:00",
          "2024-07-03T15:00:00+00:00",
          "2024-07-03T16:00:00+00:00",
          "2024-07-03T17:00:00+00:00",
          "2024-07-03T18:00:00+00:00",
          "2024-07-03T19:00:00+00:00",
          "2024-07-03T20:00:00+00:00",
          "2024-07-03T21:00:00+00:00",
          "2024-07-03T22:00:00+00:00",
          "2024-07-03T23:00:00+00:00"
         ],
         "xaxis": "x",
         "y": [
          6705.9681599088,
          6193.83618185313,
          5827.77640271306,
          5832.89817600537,
          5774.94728560918,
          5668.47698488416,
          5978.74927017216,
          5965.74237000245,
          4981.98377661219,
          3253.41462011322,
          2728.94461931855,
          2013.89351838799,
          1557.17413575293,
          1186.14665453737,
          1449.50722317866,
          2375.5451928564,
          3797.35084052007,
          5077.12666851045,
          6599.6944266648,
          8012.07457912298,
          8138.59856410698,
          8007.67824513295,
          7620.87831343682,
          7281.15582438482
         ],
         "yaxis": "y"
        },
        {
         "hovertemplate": "variable=actual_value<br>target_timestamp=%{x}<br>value=%{y}<extra></extra>",
         "legendgroup": "actual_value",
         "line": {
          "color": "#EF553B",
          "dash": "solid"
         },
         "marker": {
          "symbol": "circle"
         },
         "mode": "lines",
         "name": "actual_value",
         "orientation": "v",
         "showlegend": true,
         "type": "scatter",
         "x": [
          "2024-07-03T00:00:00+00:00",
          "2024-07-03T01:00:00+00:00",
          "2024-07-03T02:00:00+00:00",
          "2024-07-03T03:00:00+00:00",
          "2024-07-03T04:00:00+00:00",
          "2024-07-03T05:00:00+00:00",
          "2024-07-03T06:00:00+00:00",
          "2024-07-03T07:00:00+00:00",
          "2024-07-03T08:00:00+00:00",
          "2024-07-03T09:00:00+00:00",
          "2024-07-03T10:00:00+00:00",
          "2024-07-03T11:00:00+00:00",
          "2024-07-03T12:00:00+00:00",
          "2024-07-03T13:00:00+00:00",
          "2024-07-03T14:00:00+00:00",
          "2024-07-03T15:00:00+00:00",
          "2024-07-03T16:00:00+00:00",
          "2024-07-03T17:00:00+00:00",
          "2024-07-03T18:00:00+00:00",
          "2024-07-03T19:00:00+00:00",
          "2024-07-03T20:00:00+00:00",
          "2024-07-03T21:00:00+00:00",
          "2024-07-03T22:00:00+00:00",
          "2024-07-03T23:00:00+00:00"
         ],
         "xaxis": "x",
         "y": [
          6747.0078125,
          6420.71728515625,
          5904.93994140625,
          5820.38232421875,
          5645.1708984375,
          5647.822265625,
          5850.7822265625,
          6176.03564453125,
          7089.5322265625,
          7462.61572265625,
          7262.6650390625,
          5617.4716796875,
          3377.65991210938,
          3376.63256835938,
          672.665588378906,
          1749.53503417969,
          4221.13232421875,
          5067.2626953125,
          6014.16796875,
          7009.0390625,
          7676.70703125,
          7628.97509765625,
          7213.89306640625,
          6732.5576171875
         ],
         "yaxis": "y"
        },
        {
         "hovertemplate": "variable=lstm_rls_forecast<br>target_timestamp=%{x}<br>value=%{y}<extra></extra>",
         "legendgroup": "lstm_rls_forecast",
         "line": {
          "color": "#00cc96",
          "dash": "solid"
         },
         "marker": {
          "symbol": "circle"
         },
         "mode": "lines",
         "name": "lstm_rls_forecast",
         "orientation": "v",
         "showlegend": true,
         "type": "scatter",
         "x": [
          "2024-07-03T00:00:00+00:00",
          "2024-07-03T01:00:00+00:00",
          "2024-07-03T02:00:00+00:00",
          "2024-07-03T03:00:00+00:00",
          "2024-07-03T04:00:00+00:00",
          "2024-07-03T05:00:00+00:00",
          "2024-07-03T06:00:00+00:00",
          "2024-07-03T07:00:00+00:00",
          "2024-07-03T08:00:00+00:00",
          "2024-07-03T09:00:00+00:00",
          "2024-07-03T10:00:00+00:00",
          "2024-07-03T11:00:00+00:00",
          "2024-07-03T12:00:00+00:00",
          "2024-07-03T13:00:00+00:00",
          "2024-07-03T14:00:00+00:00",
          "2024-07-03T15:00:00+00:00",
          "2024-07-03T16:00:00+00:00",
          "2024-07-03T17:00:00+00:00",
          "2024-07-03T18:00:00+00:00",
          "2024-07-03T19:00:00+00:00",
          "2024-07-03T20:00:00+00:00",
          "2024-07-03T21:00:00+00:00",
          "2024-07-03T22:00:00+00:00",
          "2024-07-03T23:00:00+00:00"
         ],
         "xaxis": "x",
         "y": [
          6752.93701171875,
          6482.67138671875,
          6146.2177734375,
          6038.70849609375,
          5752.54443359375,
          5689.60107421875,
          6039.47314453125,
          5986.52294921875,
          4629.029296875,
          3118.14404296875,
          3162.71997070312,
          2183.1298828125,
          545.306823730469,
          412.699401855469,
          959.890991210938,
          4659.9482421875,
          5879.91748046875,
          5622.01318359375,
          6618.671875,
          7728.7939453125,
          7928.95166015625,
          7884.103515625,
          7525.34423828125,
          7143.4189453125
         ],
         "yaxis": "y"
        }
       ],
       "layout": {
        "legend": {
         "title": {
          "text": "variable"
         },
         "tracegroupgap": 0
        },
        "margin": {
         "t": 60
        },
        "template": {
         "data": {
          "bar": [
           {
            "error_x": {
             "color": "#2a3f5f"
            },
            "error_y": {
             "color": "#2a3f5f"
            },
            "marker": {
             "line": {
              "color": "#E5ECF6",
              "width": 0.5
             },
             "pattern": {
              "fillmode": "overlay",
              "size": 10,
              "solidity": 0.2
             }
            },
            "type": "bar"
           }
          ],
          "barpolar": [
           {
            "marker": {
             "line": {
              "color": "#E5ECF6",
              "width": 0.5
             },
             "pattern": {
              "fillmode": "overlay",
              "size": 10,
              "solidity": 0.2
             }
            },
            "type": "barpolar"
           }
          ],
          "carpet": [
           {
            "aaxis": {
             "endlinecolor": "#2a3f5f",
             "gridcolor": "white",
             "linecolor": "white",
             "minorgridcolor": "white",
             "startlinecolor": "#2a3f5f"
            },
            "baxis": {
             "endlinecolor": "#2a3f5f",
             "gridcolor": "white",
             "linecolor": "white",
             "minorgridcolor": "white",
             "startlinecolor": "#2a3f5f"
            },
            "type": "carpet"
           }
          ],
          "choropleth": [
           {
            "colorbar": {
             "outlinewidth": 0,
             "ticks": ""
            },
            "type": "choropleth"
           }
          ],
          "contour": [
           {
            "colorbar": {
             "outlinewidth": 0,
             "ticks": ""
            },
            "colorscale": [
             [
              0,
              "#0d0887"
             ],
             [
              0.1111111111111111,
              "#46039f"
             ],
             [
              0.2222222222222222,
              "#7201a8"
             ],
             [
              0.3333333333333333,
              "#9c179e"
             ],
             [
              0.4444444444444444,
              "#bd3786"
             ],
             [
              0.5555555555555556,
              "#d8576b"
             ],
             [
              0.6666666666666666,
              "#ed7953"
             ],
             [
              0.7777777777777778,
              "#fb9f3a"
             ],
             [
              0.8888888888888888,
              "#fdca26"
             ],
             [
              1,
              "#f0f921"
             ]
            ],
            "type": "contour"
           }
          ],
          "contourcarpet": [
           {
            "colorbar": {
             "outlinewidth": 0,
             "ticks": ""
            },
            "type": "contourcarpet"
           }
          ],
          "heatmap": [
           {
            "colorbar": {
             "outlinewidth": 0,
             "ticks": ""
            },
            "colorscale": [
             [
              0,
              "#0d0887"
             ],
             [
              0.1111111111111111,
              "#46039f"
             ],
             [
              0.2222222222222222,
              "#7201a8"
             ],
             [
              0.3333333333333333,
              "#9c179e"
             ],
             [
              0.4444444444444444,
              "#bd3786"
             ],
             [
              0.5555555555555556,
              "#d8576b"
             ],
             [
              0.6666666666666666,
              "#ed7953"
             ],
             [
              0.7777777777777778,
              "#fb9f3a"
             ],
             [
              0.8888888888888888,
              "#fdca26"
             ],
             [
              1,
              "#f0f921"
             ]
            ],
            "type": "heatmap"
           }
          ],
          "heatmapgl": [
           {
            "colorbar": {
             "outlinewidth": 0,
             "ticks": ""
            },
            "colorscale": [
             [
              0,
              "#0d0887"
             ],
             [
              0.1111111111111111,
              "#46039f"
             ],
             [
              0.2222222222222222,
              "#7201a8"
             ],
             [
              0.3333333333333333,
              "#9c179e"
             ],
             [
              0.4444444444444444,
              "#bd3786"
             ],
             [
              0.5555555555555556,
              "#d8576b"
             ],
             [
              0.6666666666666666,
              "#ed7953"
             ],
             [
              0.7777777777777778,
              "#fb9f3a"
             ],
             [
              0.8888888888888888,
              "#fdca26"
             ],
             [
              1,
              "#f0f921"
             ]
            ],
            "type": "heatmapgl"
           }
          ],
          "histogram": [
           {
            "marker": {
             "pattern": {
              "fillmode": "overlay",
              "size": 10,
              "solidity": 0.2
             }
            },
            "type": "histogram"
           }
          ],
          "histogram2d": [
           {
            "colorbar": {
             "outlinewidth": 0,
             "ticks": ""
            },
            "colorscale": [
             [
              0,
              "#0d0887"
             ],
             [
              0.1111111111111111,
              "#46039f"
             ],
             [
              0.2222222222222222,
              "#7201a8"
             ],
             [
              0.3333333333333333,
              "#9c179e"
             ],
             [
              0.4444444444444444,
              "#bd3786"
             ],
             [
              0.5555555555555556,
              "#d8576b"
             ],
             [
              0.6666666666666666,
              "#ed7953"
             ],
             [
              0.7777777777777778,
              "#fb9f3a"
             ],
             [
              0.8888888888888888,
              "#fdca26"
             ],
             [
              1,
              "#f0f921"
             ]
            ],
            "type": "histogram2d"
           }
          ],
          "histogram2dcontour": [
           {
            "colorbar": {
             "outlinewidth": 0,
             "ticks": ""
            },
            "colorscale": [
             [
              0,
              "#0d0887"
             ],
             [
              0.1111111111111111,
              "#46039f"
             ],
             [
              0.2222222222222222,
              "#7201a8"
             ],
             [
              0.3333333333333333,
              "#9c179e"
             ],
             [
              0.4444444444444444,
              "#bd3786"
             ],
             [
              0.5555555555555556,
              "#d8576b"
             ],
             [
              0.6666666666666666,
              "#ed7953"
             ],
             [
              0.7777777777777778,
              "#fb9f3a"
             ],
             [
              0.8888888888888888,
              "#fdca26"
             ],
             [
              1,
              "#f0f921"
             ]
            ],
            "type": "histogram2dcontour"
           }
          ],
          "mesh3d": [
           {
            "colorbar": {
             "outlinewidth": 0,
             "ticks": ""
            },
            "type": "mesh3d"
           }
          ],
          "parcoords": [
           {
            "line": {
             "colorbar": {
              "outlinewidth": 0,
              "ticks": ""
             }
            },
            "type": "parcoords"
           }
          ],
          "pie": [
           {
            "automargin": true,
            "type": "pie"
           }
          ],
          "scatter": [
           {
            "fillpattern": {
             "fillmode": "overlay",
             "size": 10,
             "solidity": 0.2
            },
            "type": "scatter"
           }
          ],
          "scatter3d": [
           {
            "line": {
             "colorbar": {
              "outlinewidth": 0,
              "ticks": ""
             }
            },
            "marker": {
             "colorbar": {
              "outlinewidth": 0,
              "ticks": ""
             }
            },
            "type": "scatter3d"
           }
          ],
          "scattercarpet": [
           {
            "marker": {
             "colorbar": {
              "outlinewidth": 0,
              "ticks": ""
             }
            },
            "type": "scattercarpet"
           }
          ],
          "scattergeo": [
           {
            "marker": {
             "colorbar": {
              "outlinewidth": 0,
              "ticks": ""
             }
            },
            "type": "scattergeo"
           }
          ],
          "scattergl": [
           {
            "marker": {
             "colorbar": {
              "outlinewidth": 0,
              "ticks": ""
             }
            },
            "type": "scattergl"
           }
          ],
          "scattermapbox": [
           {
            "marker": {
             "colorbar": {
              "outlinewidth": 0,
              "ticks": ""
             }
            },
            "type": "scattermapbox"
           }
          ],
          "scatterpolar": [
           {
            "marker": {
             "colorbar": {
              "outlinewidth": 0,
              "ticks": ""
             }
            },
            "type": "scatterpolar"
           }
          ],
          "scatterpolargl": [
           {
            "marker": {
             "colorbar": {
              "outlinewidth": 0,
              "ticks": ""
             }
            },
            "type": "scatterpolargl"
           }
          ],
          "scatterternary": [
           {
            "marker": {
             "colorbar": {
              "outlinewidth": 0,
              "ticks": ""
             }
            },
            "type": "scatterternary"
           }
          ],
          "surface": [
           {
            "colorbar": {
             "outlinewidth": 0,
             "ticks": ""
            },
            "colorscale": [
             [
              0,
              "#0d0887"
             ],
             [
              0.1111111111111111,
              "#46039f"
             ],
             [
              0.2222222222222222,
              "#7201a8"
             ],
             [
              0.3333333333333333,
              "#9c179e"
             ],
             [
              0.4444444444444444,
              "#bd3786"
             ],
             [
              0.5555555555555556,
              "#d8576b"
             ],
             [
              0.6666666666666666,
              "#ed7953"
             ],
             [
              0.7777777777777778,
              "#fb9f3a"
             ],
             [
              0.8888888888888888,
              "#fdca26"
             ],
             [
              1,
              "#f0f921"
             ]
            ],
            "type": "surface"
           }
          ],
          "table": [
           {
            "cells": {
             "fill": {
              "color": "#EBF0F8"
             },
             "line": {
              "color": "white"
             }
            },
            "header": {
             "fill": {
              "color": "#C8D4E3"
             },
             "line": {
              "color": "white"
             }
            },
            "type": "table"
           }
          ]
         },
         "layout": {
          "annotationdefaults": {
           "arrowcolor": "#2a3f5f",
           "arrowhead": 0,
           "arrowwidth": 1
          },
          "autotypenumbers": "strict",
          "coloraxis": {
           "colorbar": {
            "outlinewidth": 0,
            "ticks": ""
           }
          },
          "colorscale": {
           "diverging": [
            [
             0,
             "#8e0152"
            ],
            [
             0.1,
             "#c51b7d"
            ],
            [
             0.2,
             "#de77ae"
            ],
            [
             0.3,
             "#f1b6da"
            ],
            [
             0.4,
             "#fde0ef"
            ],
            [
             0.5,
             "#f7f7f7"
            ],
            [
             0.6,
             "#e6f5d0"
            ],
            [
             0.7,
             "#b8e186"
            ],
            [
             0.8,
             "#7fbc41"
            ],
            [
             0.9,
             "#4d9221"
            ],
            [
             1,
             "#276419"
            ]
           ],
           "sequential": [
            [
             0,
             "#0d0887"
            ],
            [
             0.1111111111111111,
             "#46039f"
            ],
            [
             0.2222222222222222,
             "#7201a8"
            ],
            [
             0.3333333333333333,
             "#9c179e"
            ],
            [
             0.4444444444444444,
             "#bd3786"
            ],
            [
             0.5555555555555556,
             "#d8576b"
            ],
            [
             0.6666666666666666,
             "#ed7953"
            ],
            [
             0.7777777777777778,
             "#fb9f3a"
            ],
            [
             0.8888888888888888,
             "#fdca26"
            ],
            [
             1,
             "#f0f921"
            ]
           ],
           "sequentialminus": [
            [
             0,
             "#0d0887"
            ],
            [
             0.1111111111111111,
             "#46039f"
            ],
            [
             0.2222222222222222,
             "#7201a8"
            ],
            [
             0.3333333333333333,
             "#9c179e"
            ],
            [
             0.4444444444444444,
             "#bd3786"
            ],
            [
             0.5555555555555556,
             "#d8576b"
            ],
            [
             0.6666666666666666,
             "#ed7953"
            ],
            [
             0.7777777777777778,
             "#fb9f3a"
            ],
            [
             0.8888888888888888,
             "#fdca26"
            ],
            [
             1,
             "#f0f921"
            ]
           ]
          },
          "colorway": [
           "#636efa",
           "#EF553B",
           "#00cc96",
           "#ab63fa",
           "#FFA15A",
           "#19d3f3",
           "#FF6692",
           "#B6E880",
           "#FF97FF",
           "#FECB52"
          ],
          "font": {
           "color": "#2a3f5f"
          },
          "geo": {
           "bgcolor": "white",
           "lakecolor": "white",
           "landcolor": "#E5ECF6",
           "showlakes": true,
           "showland": true,
           "subunitcolor": "white"
          },
          "hoverlabel": {
           "align": "left"
          },
          "hovermode": "closest",
          "mapbox": {
           "style": "light"
          },
          "paper_bgcolor": "white",
          "plot_bgcolor": "#E5ECF6",
          "polar": {
           "angularaxis": {
            "gridcolor": "white",
            "linecolor": "white",
            "ticks": ""
           },
           "bgcolor": "#E5ECF6",
           "radialaxis": {
            "gridcolor": "white",
            "linecolor": "white",
            "ticks": ""
           }
          },
          "scene": {
           "xaxis": {
            "backgroundcolor": "#E5ECF6",
            "gridcolor": "white",
            "gridwidth": 2,
            "linecolor": "white",
            "showbackground": true,
            "ticks": "",
            "zerolinecolor": "white"
           },
           "yaxis": {
            "backgroundcolor": "#E5ECF6",
            "gridcolor": "white",
            "gridwidth": 2,
            "linecolor": "white",
            "showbackground": true,
            "ticks": "",
            "zerolinecolor": "white"
           },
           "zaxis": {
            "backgroundcolor": "#E5ECF6",
            "gridcolor": "white",
            "gridwidth": 2,
            "linecolor": "white",
            "showbackground": true,
            "ticks": "",
            "zerolinecolor": "white"
           }
          },
          "shapedefaults": {
           "line": {
            "color": "#2a3f5f"
           }
          },
          "ternary": {
           "aaxis": {
            "gridcolor": "white",
            "linecolor": "white",
            "ticks": ""
           },
           "baxis": {
            "gridcolor": "white",
            "linecolor": "white",
            "ticks": ""
           },
           "bgcolor": "#E5ECF6",
           "caxis": {
            "gridcolor": "white",
            "linecolor": "white",
            "ticks": ""
           }
          },
          "title": {
           "x": 0.05
          },
          "xaxis": {
           "automargin": true,
           "gridcolor": "white",
           "linecolor": "white",
           "ticks": "",
           "title": {
            "standoff": 15
           },
           "zerolinecolor": "white",
           "zerolinewidth": 2
          },
          "yaxis": {
           "automargin": true,
           "gridcolor": "white",
           "linecolor": "white",
           "ticks": "",
           "title": {
            "standoff": 15
           },
           "zerolinecolor": "white",
           "zerolinewidth": 2
          }
         }
        },
        "xaxis": {
         "anchor": "y",
         "domain": [
          0,
          1
         ],
         "title": {
          "text": "target_timestamp"
         }
        },
        "yaxis": {
         "anchor": "x",
         "domain": [
          0,
          1
         ],
         "title": {
          "text": "value"
         }
        }
       }
      }
     },
     "metadata": {},
     "output_type": "display_data"
    }
   ],
   "source": [
    "supabase.postgrest.schema(ML_SCHEMA)\n",
    "lightgbm_results = supabase.table(\"forecasts\").select(\"target_timestamp, forecast_value, actual_value\").eq(\"feeder_id\", 1).eq(\"model_id\", 1).gte(\"target_timestamp\", '2024-07-03').execute()\n",
    "lstm_rls_results = supabase.table(\"forecasts\").select(\"target_timestamp, forecast_value\").eq(\"feeder_id\", 1).eq(\"model_id\", 19).gte(\"target_timestamp\", '2024-07-03').execute()\n",
    "\n",
    "lightgbm_results_df = pd.DataFrame(lightgbm_results.data).set_index(\"target_timestamp\")\n",
    "lstm_rls_results_df = pd.DataFrame(lstm_rls_results.data).set_index(\"target_timestamp\")\n",
    "\n",
    "lightgbm_results_df.rename(columns={\"forecast_value\": \"lightgbm_forecast\"}, inplace=True)\n",
    "lstm_rls_results_df.rename(columns={\"forecast_value\": \"lstm_rls_forecast\"}, inplace=True)\n",
    "\n",
    "px.line(pd.concat([lightgbm_results_df, lstm_rls_results_df], axis=1))\n",
    "# select * from ml.forecasts where Feeder_ID = 1 and target_timestamp >= '2024-07-03' and model_id = 19"
   ]
  }
 ],
 "metadata": {
  "kernelspec": {
   "display_name": "Barbados",
   "language": "python",
   "name": "python3"
  },
  "language_info": {
   "codemirror_mode": {
    "name": "ipython",
    "version": 3
   },
   "file_extension": ".py",
   "mimetype": "text/x-python",
   "name": "python",
   "nbconvert_exporter": "python",
   "pygments_lexer": "ipython3",
   "version": "3.10.13"
  }
 },
 "nbformat": 4,
 "nbformat_minor": 5
}
